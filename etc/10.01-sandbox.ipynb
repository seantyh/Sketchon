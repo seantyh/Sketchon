{
 "cells": [
  {
   "cell_type": "code",
   "execution_count": null,
   "metadata": {},
   "outputs": [],
   "source": [
    "%load_ext autoreload\n",
    "%autoreload 2"
   ]
  },
  {
   "cell_type": "code",
   "execution_count": 2,
   "metadata": {},
   "outputs": [],
   "source": [
    "import sys\n",
    "sys.path.append(\"../src\")"
   ]
  },
  {
   "cell_type": "code",
   "execution_count": 3,
   "metadata": {},
   "outputs": [],
   "source": [
    "from sketchon import CqlQuery, SketchRules"
   ]
  },
  {
   "cell_type": "code",
   "execution_count": 4,
   "metadata": {},
   "outputs": [],
   "source": [
    "sr = SketchRules.load(\"../src/sketchon/data/rules.txt\")"
   ]
  },
  {
   "cell_type": "code",
   "execution_count": 6,
   "metadata": {},
   "outputs": [
    {
     "data": {
      "text/plain": [
       "'1:\"V[ACFJKL].*\" (\"Di\"|\"T\"|\"I\"|\"P.?.?\")? ([tag!=\".*Y\" & tag!=\"DE\"]{1,3} \"DE\")? ([tag=\"D.*\" & tag!=\"DE\"]|\"V.*\" \"DE\"){0,2} (\"Neqa\"|\"Neu\"|\"Neqa\" \"Nf.*\"|\"Neu\" \"Nf.*\"|\"Nf.*\")? (\"A\"|\"VH11\"|\"VH13\"|\"VH21\"|\"V.*\" \"DE\"){0,2} [tag=\"N[abcd].*\" & tag!=\"Ncd\"]{0,2} 2:[tag=\"N[abcdhf].*\" & tag!=\"Nbc.*\" & tag!=\"Ncd.*\" & word!=\"者\" & word!=\"們\"] \"Ncd\"? [tag!=\"N[abcdhef].*\"|tag=\"Nbc.*\"|tag=\"Ncd.*\"]'"
      ]
     },
     "execution_count": 6,
     "metadata": {},
     "output_type": "execute_result"
    }
   ],
   "source": [
    "sr.rules[sr.categories[0]][0]"
   ]
  },
  {
   "cell_type": "code",
   "execution_count": 15,
   "metadata": {},
   "outputs": [
    {
     "data": {
      "text/plain": [
       "[<AttributeExpression: word, =, <sketchon.cql_parser.cql.ValueExpression object at 0x7f8177eb1410>>]"
      ]
     },
     "execution_count": 15,
     "metadata": {},
     "output_type": "execute_result"
    }
   ],
   "source": [
    "list(list(CqlQuery('\"aa\"').tokenexprs[0]))"
   ]
  },
  {
   "cell_type": "code",
   "execution_count": null,
   "metadata": {},
   "outputs": [],
   "source": []
  }
 ],
 "metadata": {
  "kernelspec": {
   "display_name": "Python 3",
   "language": "python",
   "name": "python3"
  },
  "language_info": {
   "codemirror_mode": {
    "name": "ipython",
    "version": 3
   },
   "file_extension": ".py",
   "mimetype": "text/x-python",
   "name": "python",
   "nbconvert_exporter": "python",
   "pygments_lexer": "ipython3",
   "version": "3.7.4"
  }
 },
 "nbformat": 4,
 "nbformat_minor": 4
}
